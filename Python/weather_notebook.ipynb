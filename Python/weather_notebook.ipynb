{
 "cells": [
  {
   "cell_type": "code",
   "execution_count": 1,
   "metadata": {},
   "outputs": [],
   "source": [
    "import utils\n",
    "import pandas as pd\n",
    "import difflib\n",
    "from urllib.error import HTTPError"
   ]
  },
  {
   "cell_type": "code",
   "execution_count": 2,
   "metadata": {},
   "outputs": [],
   "source": [
    "stadiums_path = 'C:\\Tiger Graph\\data\\stadiums_20150302.csv'\n",
    "matches_path = 'C:\\Tiger Graph\\data\\games.csv'\n",
    "team_id_path = 'C:\\Tiger Graph\\data\\Teams.csv'"
   ]
  },
  {
   "cell_type": "code",
   "execution_count": 3,
   "metadata": {},
   "outputs": [],
   "source": [
    "google_account = {'clientID':'nvYuSlmhDApA3TcC1g8tO', 'secretKey':'KRuncrb0CpNfPsA2p31sAf0ZV6u2EnkC4V3OiqGY'}\n",
    "icloud_account = {'clientID':'dsvx3PTajVYN5X6lqT80q', 'secretKey':'JuZ0Qf3ymcyXuCFuHFnXLJFraVbgMhhXhPapOOSx'}\n",
    "kubrick_account = {'clientID':'myWMloJRcG9SLFaSUcA8Y', 'secretKey':'S9Rjpii26EeWgx4E1BEsclpYpiutHiSvF1G9QCDg'}"
   ]
  },
  {
   "cell_type": "code",
   "execution_count": 4,
   "metadata": {},
   "outputs": [],
   "source": [
    "stadiums = utils.get_stadium_locations(stadiums_path)\n",
    "team_ids = utils.get_team_ids(team_id_path)"
   ]
  },
  {
   "cell_type": "code",
   "execution_count": 5,
   "metadata": {},
   "outputs": [],
   "source": [
    "#makesure allteam names and thus dict keys match up\n",
    "locations_to_get =[]\n",
    "for id in team_ids:\n",
    "    if team_ids[id] in stadiums.keys():\n",
    "        pass\n",
    "    else:\n",
    "        for i in stadiums.keys():\n",
    "            if team_ids[id] in i:\n",
    "                team_ids[id] = i\n",
    "        if len(difflib.get_close_matches(team_ids[id],stadiums.keys()))==0:\n",
    "            locations_to_get.append(team_ids[id])"
   ]
  },
  {
   "cell_type": "code",
   "execution_count": 6,
   "metadata": {},
   "outputs": [],
   "source": [
    "#all names and keys need to have values and match up and shit\n",
    "stads = set(stadiums.keys())\n",
    "teams = set(team_ids.values())\n",
    "stadiums_without_team_ids = stads.difference(teams)\n",
    "teams_without_stadiums = teams.difference(stads)"
   ]
  },
  {
   "cell_type": "code",
   "execution_count": 7,
   "metadata": {},
   "outputs": [],
   "source": [
    "new_ids=utils.create_new_ids(list(team_ids.keys()),list(stadiums_without_team_ids))"
   ]
  },
  {
   "cell_type": "code",
   "execution_count": 8,
   "metadata": {},
   "outputs": [],
   "source": [
    "for i,j in zip(new_ids,stadiums_without_team_ids):\n",
    "   team_ids[i]=j\n",
    "\n",
    "stads = set(stadiums.keys())\n",
    "teams = set(team_ids.values())\n",
    "stadiums_without_team_ids = stads.difference(teams)\n",
    "teams_without_stadiums = teams.difference(stads)"
   ]
  },
  {
   "cell_type": "code",
   "execution_count": 9,
   "metadata": {},
   "outputs": [],
   "source": [
    "try:\n",
    "    assert len(list(teams_without_stadiums)) == 0\n",
    "except AssertionError:\n",
    "    print('There is a stadium without coordinates.')"
   ]
  },
  {
   "cell_type": "code",
   "execution_count": 10,
   "metadata": {},
   "outputs": [],
   "source": [
    "try:\n",
    "    assert len(stadiums_without_team_ids) == 0\n",
    "except AssertionError:\n",
    "    print('There is a team that has not been assigned to a stadium.')"
   ]
  },
  {
   "cell_type": "code",
   "execution_count": 11,
   "metadata": {},
   "outputs": [],
   "source": [
    "matches = utils.get_match_dates(matches_path,team_ids)"
   ]
  },
  {
   "cell_type": "code",
   "execution_count": 12,
   "metadata": {},
   "outputs": [],
   "source": [
    "counter = 0\n",
    "data = {}\n",
    "for match in matches:\n",
    "\ttry:\n",
    "\t\tjson = utils.api_request(matches[match],stadiums,google_account['clientID'],google_account['secretKey'])\n",
    "\t\tweather = utils.get_weather(json,matches[match]['date'])\n",
    "\t\tdata[match]=weather\n",
    "\t\tcounter += 1\n",
    "\texcept HTTPError:\n",
    "\t\tbreak"
   ]
  },
  {
   "cell_type": "code",
   "execution_count": 13,
   "metadata": {},
   "outputs": [],
   "source": [
    "remainder = {match:matches[match] for match in list(matches)[counter-1:]}"
   ]
  },
  {
   "cell_type": "code",
   "execution_count": 14,
   "metadata": {},
   "outputs": [],
   "source": [
    "for match in remainder:\n",
    "\ttry:\n",
    "\t\tjson = utils.api_request(matches[match],stadiums,icloud_account['clientID'],icloud_account['secretKey'])\n",
    "\t\tweather = utils.get_weather(json,matches[match]['date'])\n",
    "\t\tdata[match]=weather\n",
    "\t\tcounter += 1\n",
    "\texcept HTTPError:\n",
    "\t\tbreak"
   ]
  },
  {
   "cell_type": "code",
   "execution_count": 15,
   "metadata": {},
   "outputs": [],
   "source": [
    "remainder = {match:matches[match] for match in list(matches)[counter-1:]}\n",
    "for match in remainder:\n",
    "\ttry:\n",
    "\t\tjson = utils.api_request(matches[match],stadiums,kubrick_account['clientID'],kubrick_account['secretKey'])\n",
    "\t\tweather = utils.get_weather(json,matches[match]['date'])\n",
    "\t\tdata[match]=weather\n",
    "\t\tcounter += 1\n",
    "\texcept HTTPError:\n",
    "\t\tbreak"
   ]
  },
  {
   "cell_type": "code",
   "execution_count": 24,
   "metadata": {},
   "outputs": [],
   "source": [
    "df = pd.DataFrame.from_dict(data, orient='index')"
   ]
  },
  {
   "cell_type": "code",
   "execution_count": 25,
   "metadata": {},
   "outputs": [
    {
     "data": {
      "text/html": [
       "<div>\n",
       "<style scoped>\n",
       "    .dataframe tbody tr th:only-of-type {\n",
       "        vertical-align: middle;\n",
       "    }\n",
       "\n",
       "    .dataframe tbody tr th {\n",
       "        vertical-align: top;\n",
       "    }\n",
       "\n",
       "    .dataframe thead th {\n",
       "        text-align: right;\n",
       "    }\n",
       "</style>\n",
       "<table border=\"1\" class=\"dataframe\">\n",
       "  <thead>\n",
       "    <tr style=\"text-align: right;\">\n",
       "      <th></th>\n",
       "      <th>tempC</th>\n",
       "      <th>dewpointC</th>\n",
       "      <th>humidity</th>\n",
       "      <th>windSpeedKPH</th>\n",
       "      <th>weather</th>\n",
       "      <th>feelslikeC</th>\n",
       "      <th>message</th>\n",
       "    </tr>\n",
       "  </thead>\n",
       "  <tbody>\n",
       "    <tr>\n",
       "      <th>81</th>\n",
       "      <td>22.72</td>\n",
       "      <td>12.58</td>\n",
       "      <td>53.0</td>\n",
       "      <td>5.91</td>\n",
       "      <td>Partly Cloudy</td>\n",
       "      <td>22.72</td>\n",
       "      <td>NaN</td>\n",
       "    </tr>\n",
       "    <tr>\n",
       "      <th>82</th>\n",
       "      <td>24.96</td>\n",
       "      <td>14.95</td>\n",
       "      <td>54.0</td>\n",
       "      <td>6.48</td>\n",
       "      <td>Mostly Sunny</td>\n",
       "      <td>24.96</td>\n",
       "      <td>NaN</td>\n",
       "    </tr>\n",
       "    <tr>\n",
       "      <th>83</th>\n",
       "      <td>16.19</td>\n",
       "      <td>14.62</td>\n",
       "      <td>90.0</td>\n",
       "      <td>9.85</td>\n",
       "      <td>Partly Cloudy</td>\n",
       "      <td>16.19</td>\n",
       "      <td>NaN</td>\n",
       "    </tr>\n",
       "    <tr>\n",
       "      <th>84</th>\n",
       "      <td>23.67</td>\n",
       "      <td>13.08</td>\n",
       "      <td>51.0</td>\n",
       "      <td>11.62</td>\n",
       "      <td>Partly Cloudy</td>\n",
       "      <td>23.67</td>\n",
       "      <td>NaN</td>\n",
       "    </tr>\n",
       "    <tr>\n",
       "      <th>85</th>\n",
       "      <td>21.11</td>\n",
       "      <td>8.29</td>\n",
       "      <td>44.0</td>\n",
       "      <td>21.32</td>\n",
       "      <td>Mostly Sunny</td>\n",
       "      <td>21.11</td>\n",
       "      <td>NaN</td>\n",
       "    </tr>\n",
       "    <tr>\n",
       "      <th>...</th>\n",
       "      <td>...</td>\n",
       "      <td>...</td>\n",
       "      <td>...</td>\n",
       "      <td>...</td>\n",
       "      <td>...</td>\n",
       "      <td>...</td>\n",
       "      <td>...</td>\n",
       "    </tr>\n",
       "    <tr>\n",
       "      <th>5310</th>\n",
       "      <td>NaN</td>\n",
       "      <td>NaN</td>\n",
       "      <td>NaN</td>\n",
       "      <td>NaN</td>\n",
       "      <td>NaN</td>\n",
       "      <td>NaN</td>\n",
       "      <td>Error</td>\n",
       "    </tr>\n",
       "    <tr>\n",
       "      <th>5311</th>\n",
       "      <td>NaN</td>\n",
       "      <td>NaN</td>\n",
       "      <td>NaN</td>\n",
       "      <td>NaN</td>\n",
       "      <td>NaN</td>\n",
       "      <td>NaN</td>\n",
       "      <td>Error</td>\n",
       "    </tr>\n",
       "    <tr>\n",
       "      <th>5381</th>\n",
       "      <td>NaN</td>\n",
       "      <td>NaN</td>\n",
       "      <td>NaN</td>\n",
       "      <td>NaN</td>\n",
       "      <td>NaN</td>\n",
       "      <td>NaN</td>\n",
       "      <td>Error</td>\n",
       "    </tr>\n",
       "    <tr>\n",
       "      <th>5382</th>\n",
       "      <td>NaN</td>\n",
       "      <td>NaN</td>\n",
       "      <td>NaN</td>\n",
       "      <td>NaN</td>\n",
       "      <td>NaN</td>\n",
       "      <td>NaN</td>\n",
       "      <td>Error</td>\n",
       "    </tr>\n",
       "    <tr>\n",
       "      <th>5410</th>\n",
       "      <td>NaN</td>\n",
       "      <td>NaN</td>\n",
       "      <td>NaN</td>\n",
       "      <td>NaN</td>\n",
       "      <td>NaN</td>\n",
       "      <td>NaN</td>\n",
       "      <td>Error</td>\n",
       "    </tr>\n",
       "  </tbody>\n",
       "</table>\n",
       "<p>4683 rows × 7 columns</p>\n",
       "</div>"
      ],
      "text/plain": [
       "      tempC  dewpointC  humidity  windSpeedKPH        weather  feelslikeC  \\\n",
       "81    22.72      12.58      53.0          5.91  Partly Cloudy       22.72   \n",
       "82    24.96      14.95      54.0          6.48   Mostly Sunny       24.96   \n",
       "83    16.19      14.62      90.0          9.85  Partly Cloudy       16.19   \n",
       "84    23.67      13.08      51.0         11.62  Partly Cloudy       23.67   \n",
       "85    21.11       8.29      44.0         21.32   Mostly Sunny       21.11   \n",
       "...     ...        ...       ...           ...            ...         ...   \n",
       "5310    NaN        NaN       NaN           NaN            NaN         NaN   \n",
       "5311    NaN        NaN       NaN           NaN            NaN         NaN   \n",
       "5381    NaN        NaN       NaN           NaN            NaN         NaN   \n",
       "5382    NaN        NaN       NaN           NaN            NaN         NaN   \n",
       "5410    NaN        NaN       NaN           NaN            NaN         NaN   \n",
       "\n",
       "     message  \n",
       "81       NaN  \n",
       "82       NaN  \n",
       "83       NaN  \n",
       "84       NaN  \n",
       "85       NaN  \n",
       "...      ...  \n",
       "5310   Error  \n",
       "5311   Error  \n",
       "5381   Error  \n",
       "5382   Error  \n",
       "5410   Error  \n",
       "\n",
       "[4683 rows x 7 columns]"
      ]
     },
     "metadata": {},
     "output_type": "display_data"
    }
   ],
   "source": [
    "display(df)"
   ]
  },
  {
   "cell_type": "code",
   "execution_count": 26,
   "metadata": {},
   "outputs": [],
   "source": [
    "df.to_csv('C:\\Tiger Graph\\data\\match_weather_data.csv')"
   ]
  }
 ],
 "metadata": {
  "interpreter": {
   "hash": "7496e3ca62f1594489aad3d596bbd53fd8e96e75214316b7598e777635765f41"
  },
  "kernelspec": {
   "display_name": "Python 3.9.7 ('base')",
   "language": "python",
   "name": "python3"
  },
  "language_info": {
   "codemirror_mode": {
    "name": "ipython",
    "version": 3
   },
   "file_extension": ".py",
   "mimetype": "text/x-python",
   "name": "python",
   "nbconvert_exporter": "python",
   "pygments_lexer": "ipython3",
   "version": "3.9.7"
  },
  "orig_nbformat": 4
 },
 "nbformat": 4,
 "nbformat_minor": 2
}
